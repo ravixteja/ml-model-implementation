{
 "cells": [
  {
   "cell_type": "markdown",
   "id": "a8681f26",
   "metadata": {},
   "source": [
    "# In this notebook, we explore implementation of LDA from scratch"
   ]
  },
  {
   "cell_type": "code",
   "execution_count": 1,
   "id": "dc734dca",
   "metadata": {},
   "outputs": [],
   "source": [
    "# import libraries\n",
    "import numpy as np\n",
    "import pandas as pd\n",
    "import matplotlib.pyplot as plt"
   ]
  },
  {
   "cell_type": "code",
   "execution_count": 2,
   "id": "65dadfbb",
   "metadata": {},
   "outputs": [],
   "source": [
    "# load dataset\n",
    "dataset = pd.read_csv('dataset.csv')"
   ]
  },
  {
   "cell_type": "code",
   "execution_count": 3,
   "id": "61bac4c5",
   "metadata": {},
   "outputs": [
    {
     "data": {
      "text/html": [
       "<div>\n",
       "<style scoped>\n",
       "    .dataframe tbody tr th:only-of-type {\n",
       "        vertical-align: middle;\n",
       "    }\n",
       "\n",
       "    .dataframe tbody tr th {\n",
       "        vertical-align: top;\n",
       "    }\n",
       "\n",
       "    .dataframe thead th {\n",
       "        text-align: right;\n",
       "    }\n",
       "</style>\n",
       "<table border=\"1\" class=\"dataframe\">\n",
       "  <thead>\n",
       "    <tr style=\"text-align: right;\">\n",
       "      <th></th>\n",
       "      <th>x1</th>\n",
       "      <th>x2</th>\n",
       "      <th>y</th>\n",
       "    </tr>\n",
       "  </thead>\n",
       "  <tbody>\n",
       "    <tr>\n",
       "      <th>0</th>\n",
       "      <td>2.497</td>\n",
       "      <td>1.862</td>\n",
       "      <td>0</td>\n",
       "    </tr>\n",
       "    <tr>\n",
       "      <th>1</th>\n",
       "      <td>2.648</td>\n",
       "      <td>3.523</td>\n",
       "      <td>0</td>\n",
       "    </tr>\n",
       "    <tr>\n",
       "      <th>2</th>\n",
       "      <td>1.766</td>\n",
       "      <td>1.766</td>\n",
       "      <td>0</td>\n",
       "    </tr>\n",
       "    <tr>\n",
       "      <th>3</th>\n",
       "      <td>3.579</td>\n",
       "      <td>2.767</td>\n",
       "      <td>0</td>\n",
       "    </tr>\n",
       "    <tr>\n",
       "      <th>4</th>\n",
       "      <td>1.531</td>\n",
       "      <td>2.543</td>\n",
       "      <td>0</td>\n",
       "    </tr>\n",
       "    <tr>\n",
       "      <th>5</th>\n",
       "      <td>1.537</td>\n",
       "      <td>1.534</td>\n",
       "      <td>0</td>\n",
       "    </tr>\n",
       "    <tr>\n",
       "      <th>6</th>\n",
       "      <td>2.242</td>\n",
       "      <td>0.087</td>\n",
       "      <td>0</td>\n",
       "    </tr>\n",
       "    <tr>\n",
       "      <th>7</th>\n",
       "      <td>0.275</td>\n",
       "      <td>1.438</td>\n",
       "      <td>0</td>\n",
       "    </tr>\n",
       "    <tr>\n",
       "      <th>8</th>\n",
       "      <td>0.987</td>\n",
       "      <td>2.314</td>\n",
       "      <td>0</td>\n",
       "    </tr>\n",
       "    <tr>\n",
       "      <th>9</th>\n",
       "      <td>1.092</td>\n",
       "      <td>0.588</td>\n",
       "      <td>0</td>\n",
       "    </tr>\n",
       "    <tr>\n",
       "      <th>10</th>\n",
       "      <td>3.466</td>\n",
       "      <td>1.774</td>\n",
       "      <td>0</td>\n",
       "    </tr>\n",
       "    <tr>\n",
       "      <th>11</th>\n",
       "      <td>2.068</td>\n",
       "      <td>0.575</td>\n",
       "      <td>0</td>\n",
       "    </tr>\n",
       "    <tr>\n",
       "      <th>12</th>\n",
       "      <td>1.456</td>\n",
       "      <td>2.111</td>\n",
       "      <td>0</td>\n",
       "    </tr>\n",
       "    <tr>\n",
       "      <th>13</th>\n",
       "      <td>0.849</td>\n",
       "      <td>2.376</td>\n",
       "      <td>0</td>\n",
       "    </tr>\n",
       "    <tr>\n",
       "      <th>14</th>\n",
       "      <td>1.399</td>\n",
       "      <td>1.708</td>\n",
       "      <td>0</td>\n",
       "    </tr>\n",
       "    <tr>\n",
       "      <th>15</th>\n",
       "      <td>1.398</td>\n",
       "      <td>3.852</td>\n",
       "      <td>0</td>\n",
       "    </tr>\n",
       "    <tr>\n",
       "      <th>16</th>\n",
       "      <td>1.987</td>\n",
       "      <td>0.942</td>\n",
       "      <td>0</td>\n",
       "    </tr>\n",
       "    <tr>\n",
       "      <th>17</th>\n",
       "      <td>2.823</td>\n",
       "      <td>0.779</td>\n",
       "      <td>0</td>\n",
       "    </tr>\n",
       "    <tr>\n",
       "      <th>18</th>\n",
       "      <td>2.209</td>\n",
       "      <td>0.040</td>\n",
       "      <td>0</td>\n",
       "    </tr>\n",
       "    <tr>\n",
       "      <th>19</th>\n",
       "      <td>0.672</td>\n",
       "      <td>2.197</td>\n",
       "      <td>0</td>\n",
       "    </tr>\n",
       "    <tr>\n",
       "      <th>20</th>\n",
       "      <td>2.738</td>\n",
       "      <td>2.171</td>\n",
       "      <td>0</td>\n",
       "    </tr>\n",
       "    <tr>\n",
       "      <th>21</th>\n",
       "      <td>1.884</td>\n",
       "      <td>1.699</td>\n",
       "      <td>0</td>\n",
       "    </tr>\n",
       "    <tr>\n",
       "      <th>22</th>\n",
       "      <td>0.521</td>\n",
       "      <td>1.280</td>\n",
       "      <td>0</td>\n",
       "    </tr>\n",
       "    <tr>\n",
       "      <th>23</th>\n",
       "      <td>1.539</td>\n",
       "      <td>3.057</td>\n",
       "      <td>0</td>\n",
       "    </tr>\n",
       "    <tr>\n",
       "      <th>24</th>\n",
       "      <td>2.344</td>\n",
       "      <td>0.237</td>\n",
       "      <td>0</td>\n",
       "    </tr>\n",
       "    <tr>\n",
       "      <th>25</th>\n",
       "      <td>2.324</td>\n",
       "      <td>1.615</td>\n",
       "      <td>0</td>\n",
       "    </tr>\n",
       "    <tr>\n",
       "      <th>26</th>\n",
       "      <td>1.323</td>\n",
       "      <td>2.612</td>\n",
       "      <td>0</td>\n",
       "    </tr>\n",
       "    <tr>\n",
       "      <th>27</th>\n",
       "      <td>3.031</td>\n",
       "      <td>2.931</td>\n",
       "      <td>0</td>\n",
       "    </tr>\n",
       "    <tr>\n",
       "      <th>28</th>\n",
       "      <td>1.161</td>\n",
       "      <td>1.691</td>\n",
       "      <td>0</td>\n",
       "    </tr>\n",
       "    <tr>\n",
       "      <th>29</th>\n",
       "      <td>2.331</td>\n",
       "      <td>2.976</td>\n",
       "      <td>0</td>\n",
       "    </tr>\n",
       "    <tr>\n",
       "      <th>30</th>\n",
       "      <td>5.521</td>\n",
       "      <td>5.814</td>\n",
       "      <td>1</td>\n",
       "    </tr>\n",
       "    <tr>\n",
       "      <th>31</th>\n",
       "      <td>4.894</td>\n",
       "      <td>4.804</td>\n",
       "      <td>1</td>\n",
       "    </tr>\n",
       "    <tr>\n",
       "      <th>32</th>\n",
       "      <td>6.813</td>\n",
       "      <td>7.356</td>\n",
       "      <td>1</td>\n",
       "    </tr>\n",
       "    <tr>\n",
       "      <th>33</th>\n",
       "      <td>5.928</td>\n",
       "      <td>7.004</td>\n",
       "      <td>1</td>\n",
       "    </tr>\n",
       "    <tr>\n",
       "      <th>34</th>\n",
       "      <td>6.362</td>\n",
       "      <td>5.355</td>\n",
       "      <td>1</td>\n",
       "    </tr>\n",
       "    <tr>\n",
       "      <th>35</th>\n",
       "      <td>6.361</td>\n",
       "      <td>7.538</td>\n",
       "      <td>1</td>\n",
       "    </tr>\n",
       "    <tr>\n",
       "      <th>36</th>\n",
       "      <td>5.964</td>\n",
       "      <td>7.565</td>\n",
       "      <td>1</td>\n",
       "    </tr>\n",
       "    <tr>\n",
       "      <th>37</th>\n",
       "      <td>3.380</td>\n",
       "      <td>6.822</td>\n",
       "      <td>1</td>\n",
       "    </tr>\n",
       "    <tr>\n",
       "      <th>38</th>\n",
       "      <td>6.087</td>\n",
       "      <td>5.701</td>\n",
       "      <td>1</td>\n",
       "    </tr>\n",
       "    <tr>\n",
       "      <th>39</th>\n",
       "      <td>6.092</td>\n",
       "      <td>4.012</td>\n",
       "      <td>1</td>\n",
       "    </tr>\n",
       "    <tr>\n",
       "      <th>40</th>\n",
       "      <td>5.780</td>\n",
       "      <td>6.357</td>\n",
       "      <td>1</td>\n",
       "    </tr>\n",
       "    <tr>\n",
       "      <th>41</th>\n",
       "      <td>7.478</td>\n",
       "      <td>5.482</td>\n",
       "      <td>1</td>\n",
       "    </tr>\n",
       "    <tr>\n",
       "      <th>42</th>\n",
       "      <td>5.192</td>\n",
       "      <td>5.498</td>\n",
       "      <td>1</td>\n",
       "    </tr>\n",
       "    <tr>\n",
       "      <th>43</th>\n",
       "      <td>6.915</td>\n",
       "      <td>6.329</td>\n",
       "      <td>1</td>\n",
       "    </tr>\n",
       "    <tr>\n",
       "      <th>44</th>\n",
       "      <td>5.470</td>\n",
       "      <td>6.513</td>\n",
       "      <td>1</td>\n",
       "    </tr>\n",
       "    <tr>\n",
       "      <th>45</th>\n",
       "      <td>6.097</td>\n",
       "      <td>6.969</td>\n",
       "      <td>1</td>\n",
       "    </tr>\n",
       "    <tr>\n",
       "      <th>46</th>\n",
       "      <td>5.298</td>\n",
       "      <td>5.672</td>\n",
       "      <td>1</td>\n",
       "    </tr>\n",
       "    <tr>\n",
       "      <th>47</th>\n",
       "      <td>5.608</td>\n",
       "      <td>4.536</td>\n",
       "      <td>1</td>\n",
       "    </tr>\n",
       "    <tr>\n",
       "      <th>48</th>\n",
       "      <td>6.296</td>\n",
       "      <td>6.261</td>\n",
       "      <td>1</td>\n",
       "    </tr>\n",
       "    <tr>\n",
       "      <th>49</th>\n",
       "      <td>6.005</td>\n",
       "      <td>5.765</td>\n",
       "      <td>1</td>\n",
       "    </tr>\n",
       "    <tr>\n",
       "      <th>50</th>\n",
       "      <td>4.585</td>\n",
       "      <td>5.579</td>\n",
       "      <td>1</td>\n",
       "    </tr>\n",
       "    <tr>\n",
       "      <th>51</th>\n",
       "      <td>5.657</td>\n",
       "      <td>5.198</td>\n",
       "      <td>1</td>\n",
       "    </tr>\n",
       "    <tr>\n",
       "      <th>52</th>\n",
       "      <td>5.839</td>\n",
       "      <td>6.404</td>\n",
       "      <td>1</td>\n",
       "    </tr>\n",
       "    <tr>\n",
       "      <th>53</th>\n",
       "      <td>7.886</td>\n",
       "      <td>6.175</td>\n",
       "      <td>1</td>\n",
       "    </tr>\n",
       "    <tr>\n",
       "      <th>54</th>\n",
       "      <td>6.258</td>\n",
       "      <td>5.926</td>\n",
       "      <td>1</td>\n",
       "    </tr>\n",
       "    <tr>\n",
       "      <th>55</th>\n",
       "      <td>4.081</td>\n",
       "      <td>5.973</td>\n",
       "      <td>1</td>\n",
       "    </tr>\n",
       "    <tr>\n",
       "      <th>56</th>\n",
       "      <td>6.060</td>\n",
       "      <td>8.463</td>\n",
       "      <td>1</td>\n",
       "    </tr>\n",
       "    <tr>\n",
       "      <th>57</th>\n",
       "      <td>5.808</td>\n",
       "      <td>6.302</td>\n",
       "      <td>1</td>\n",
       "    </tr>\n",
       "    <tr>\n",
       "      <th>58</th>\n",
       "      <td>5.965</td>\n",
       "      <td>4.831</td>\n",
       "      <td>1</td>\n",
       "    </tr>\n",
       "    <tr>\n",
       "      <th>59</th>\n",
       "      <td>7.143</td>\n",
       "      <td>6.752</td>\n",
       "      <td>1</td>\n",
       "    </tr>\n",
       "  </tbody>\n",
       "</table>\n",
       "</div>"
      ],
      "text/plain": [
       "       x1     x2  y\n",
       "0   2.497  1.862  0\n",
       "1   2.648  3.523  0\n",
       "2   1.766  1.766  0\n",
       "3   3.579  2.767  0\n",
       "4   1.531  2.543  0\n",
       "5   1.537  1.534  0\n",
       "6   2.242  0.087  0\n",
       "7   0.275  1.438  0\n",
       "8   0.987  2.314  0\n",
       "9   1.092  0.588  0\n",
       "10  3.466  1.774  0\n",
       "11  2.068  0.575  0\n",
       "12  1.456  2.111  0\n",
       "13  0.849  2.376  0\n",
       "14  1.399  1.708  0\n",
       "15  1.398  3.852  0\n",
       "16  1.987  0.942  0\n",
       "17  2.823  0.779  0\n",
       "18  2.209  0.040  0\n",
       "19  0.672  2.197  0\n",
       "20  2.738  2.171  0\n",
       "21  1.884  1.699  0\n",
       "22  0.521  1.280  0\n",
       "23  1.539  3.057  0\n",
       "24  2.344  0.237  0\n",
       "25  2.324  1.615  0\n",
       "26  1.323  2.612  0\n",
       "27  3.031  2.931  0\n",
       "28  1.161  1.691  0\n",
       "29  2.331  2.976  0\n",
       "30  5.521  5.814  1\n",
       "31  4.894  4.804  1\n",
       "32  6.813  7.356  1\n",
       "33  5.928  7.004  1\n",
       "34  6.362  5.355  1\n",
       "35  6.361  7.538  1\n",
       "36  5.964  7.565  1\n",
       "37  3.380  6.822  1\n",
       "38  6.087  5.701  1\n",
       "39  6.092  4.012  1\n",
       "40  5.780  6.357  1\n",
       "41  7.478  5.482  1\n",
       "42  5.192  5.498  1\n",
       "43  6.915  6.329  1\n",
       "44  5.470  6.513  1\n",
       "45  6.097  6.969  1\n",
       "46  5.298  5.672  1\n",
       "47  5.608  4.536  1\n",
       "48  6.296  6.261  1\n",
       "49  6.005  5.765  1\n",
       "50  4.585  5.579  1\n",
       "51  5.657  5.198  1\n",
       "52  5.839  6.404  1\n",
       "53  7.886  6.175  1\n",
       "54  6.258  5.926  1\n",
       "55  4.081  5.973  1\n",
       "56  6.060  8.463  1\n",
       "57  5.808  6.302  1\n",
       "58  5.965  4.831  1\n",
       "59  7.143  6.752  1"
      ]
     },
     "execution_count": 3,
     "metadata": {},
     "output_type": "execute_result"
    }
   ],
   "source": [
    "dataset"
   ]
  },
  {
   "cell_type": "markdown",
   "id": "30c1252d",
   "metadata": {},
   "source": [
    "First we separate data into two sets based on classes."
   ]
  },
  {
   "cell_type": "code",
   "execution_count": 55,
   "id": "bf602297",
   "metadata": {},
   "outputs": [],
   "source": [
    "X = np.array(dataset[['x1','x2']])\n",
    "X1 = dataset[dataset['y']==1]\n",
    "X0 = dataset[dataset['y']==0]"
   ]
  },
  {
   "cell_type": "markdown",
   "id": "cbdc664f",
   "metadata": {},
   "source": [
    "Plot scatter plot to visualize two classes."
   ]
  },
  {
   "cell_type": "code",
   "execution_count": 5,
   "id": "03423dfd",
   "metadata": {},
   "outputs": [
    {
     "data": {
      "text/plain": [
       "Text(0.5, 1.0, 'Original Data')"
      ]
     },
     "execution_count": 5,
     "metadata": {},
     "output_type": "execute_result"
    },
    {
     "data": {
      "image/png": "[encoded data removed]",
      "text/plain": [
       "<Figure size 640x480 with 1 Axes>"
      ]
     },
     "metadata": {},
     "output_type": "display_data"
    }
   ],
   "source": [
    "plt.scatter(X1['x1'],X1['x2'],color='red')\n",
    "plt.scatter(X0['x1'],X0['x2'],color='blue')\n",
    "plt.xlabel('X1',fontsize=15)\n",
    "plt.ylabel('X2',fontsize=15)\n",
    "plt.title('Original Data')"
   ]
  },
  {
   "cell_type": "markdown",
   "id": "f4f5d4dd",
   "metadata": {},
   "source": [
    "Compute mean for each class."
   ]
  },
  {
   "cell_type": "code",
   "execution_count": 56,
   "id": "7b0246af",
   "metadata": {},
   "outputs": [
    {
     "data": {
      "text/plain": [
       "array([5.894, 6.099])"
      ]
     },
     "execution_count": 56,
     "metadata": {},
     "output_type": "execute_result"
    }
   ],
   "source": [
    "mean_class_1 = np.array([np.mean(X1['x1']).round(3),np.mean(X1['x2']).round(3)])\n",
    "mean_class_1"
   ]
  },
  {
   "cell_type": "code",
   "execution_count": 7,
   "id": "b8e622c5",
   "metadata": {},
   "outputs": [],
   "source": [
    "mean_class_0 = np.array([np.mean(X0['x1']).round(3),np.mean(X0['x2']).round(3)])"
   ]
  },
  {
   "cell_type": "markdown",
   "id": "6561e2a1",
   "metadata": {},
   "source": [
    "Compute within-class scatter matrix (within class variance)"
   ]
  },
  {
   "cell_type": "code",
   "execution_count": 57,
   "id": "d222a4ee",
   "metadata": {},
   "outputs": [
    {
     "data": {
      "text/plain": [
       "array([[44.883074,  3.895435],\n",
       "       [ 3.895435, 55.696335]])"
      ]
     },
     "execution_count": 57,
     "metadata": {},
     "output_type": "execute_result"
    }
   ],
   "source": [
    "x1 = np.array(X1[['x1','x2']])\n",
    "x0 = np.array(X0[['x1','x2']])\n",
    "class_1_var = (x1 - mean_class_1).T @ (x1 - mean_class_1)\n",
    "class_0_var = (x0 - mean_class_0).T @ (x0 - mean_class_0)\n",
    "total_var = class_1_var + class_0_var\n",
    "total_var"
   ]
  },
  {
   "cell_type": "markdown",
   "id": "ae170643",
   "metadata": {},
   "source": [
    "Compute bewteen class variance"
   ]
  },
  {
   "cell_type": "code",
   "execution_count": 9,
   "id": "ae6fc753",
   "metadata": {},
   "outputs": [],
   "source": [
    "mean_diff = (mean_class_1 - mean_class_0).reshape(-1,1)"
   ]
  },
  {
   "cell_type": "code",
   "execution_count": 10,
   "id": "3bfdfaaa",
   "metadata": {},
   "outputs": [],
   "source": [
    "bewteen_class_var = mean_diff @ mean_diff.T"
   ]
  },
  {
   "cell_type": "code",
   "execution_count": 11,
   "id": "01829619",
   "metadata": {},
   "outputs": [
    {
     "data": {
      "text/plain": [
       "array([[16.305444, 17.218032],\n",
       "       [17.218032, 18.181696]])"
      ]
     },
     "execution_count": 11,
     "metadata": {},
     "output_type": "execute_result"
    }
   ],
   "source": [
    "bewteen_class_var"
   ]
  },
  {
   "cell_type": "markdown",
   "id": "1a8a42b1",
   "metadata": {},
   "source": [
    "Solve for eigen vectors"
   ]
  },
  {
   "cell_type": "code",
   "execution_count": 12,
   "id": "bfb2de1f",
   "metadata": {},
   "outputs": [],
   "source": [
    "eigvals,eigenvects = np.linalg.eig(np.linalg.inv(total_var) @ bewteen_class_var)"
   ]
  },
  {
   "cell_type": "code",
   "execution_count": 13,
   "id": "2f2ab2c3",
   "metadata": {},
   "outputs": [
    {
     "data": {
      "text/plain": [
       "array([6.39953921e-01, 1.11022302e-16])"
      ]
     },
     "execution_count": 13,
     "metadata": {},
     "output_type": "execute_result"
    }
   ],
   "source": [
    "eigvals"
   ]
  },
  {
   "cell_type": "code",
   "execution_count": 14,
   "id": "f572518e",
   "metadata": {},
   "outputs": [
    {
     "data": {
      "text/plain": [
       "array([[ 0.76446228, -0.72608691],\n",
       "       [ 0.64466846,  0.68760294]])"
      ]
     },
     "execution_count": 14,
     "metadata": {},
     "output_type": "execute_result"
    }
   ],
   "source": [
    "eigenvects"
   ]
  },
  {
   "cell_type": "markdown",
   "id": "1b18665d",
   "metadata": {},
   "source": [
    "Pick eigen vector with largest eigen value"
   ]
  },
  {
   "cell_type": "code",
   "execution_count": 15,
   "id": "ac64a259",
   "metadata": {},
   "outputs": [],
   "source": [
    "w = eigenvects[:, np.argmax(eigvals)]"
   ]
  },
  {
   "cell_type": "code",
   "execution_count": 16,
   "id": "803ba6d1",
   "metadata": {},
   "outputs": [
    {
     "data": {
      "text/plain": [
       "array([0.76446228, 0.64466846])"
      ]
     },
     "execution_count": 16,
     "metadata": {},
     "output_type": "execute_result"
    }
   ],
   "source": [
    "w"
   ]
  },
  {
   "cell_type": "code",
   "execution_count": 17,
   "id": "6a0d3773",
   "metadata": {},
   "outputs": [],
   "source": [
    "# convert to column vector\n",
    "w = w.reshape(-1,1)"
   ]
  },
  {
   "cell_type": "code",
   "execution_count": 18,
   "id": "522b59b8",
   "metadata": {},
   "outputs": [
    {
     "data": {
      "text/plain": [
       "array([[0.76446228],\n",
       "       [0.64466846]])"
      ]
     },
     "execution_count": 18,
     "metadata": {},
     "output_type": "execute_result"
    }
   ],
   "source": [
    "w"
   ]
  },
  {
   "cell_type": "markdown",
   "id": "44f53d78",
   "metadata": {},
   "source": [
    "Project datapoints onto the eigen vector chosen"
   ]
  },
  {
   "cell_type": "code",
   "execution_count": 19,
   "id": "baf893f0",
   "metadata": {},
   "outputs": [],
   "source": [
    "proj1 = x1 @ w\n",
    "proj0 = x0 @ w"
   ]
  },
  {
   "cell_type": "code",
   "execution_count": 22,
   "id": "37880497",
   "metadata": {},
   "outputs": [],
   "source": [
    "# convert the 1-d projected points to 2-d space\n",
    "w_unit = w / np.linalg.norm(w)\n",
    "proj1_2d = proj1 @ w_unit.T\n",
    "proj0_2d = proj0 @ w_unit.T"
   ]
  },
  {
   "cell_type": "code",
   "execution_count": 53,
   "id": "ad1dc0c0",
   "metadata": {},
   "outputs": [
    {
     "data": {
      "text/plain": [
       "<matplotlib.legend.Legend at 0x70eb1ce4b520>"
      ]
     },
     "execution_count": 53,
     "metadata": {},
     "output_type": "execute_result"
    },
    {
     "data": {
      "image/png": "[encoded data removed]",
      "text/plain": [
       "<Figure size 1000x500 with 1 Axes>"
      ]
     },
     "metadata": {},
     "output_type": "display_data"
    }
   ],
   "source": [
    "plt.figure(figsize = (10,5))\n",
    "plt.scatter(X1['x1'],X1['x2'],color='red',label='Org Class 1',alpha=0.3,marker='.')\n",
    "plt.scatter(X0['x1'],X0['x2'],color='blue',label='Org Class 0',alpha=0.3,marker='.')\n",
    "\n",
    "plt.scatter(proj1_2d[:,0],proj1_2d[:,1],color='red',label='Proj Class 1',marker='+')\n",
    "plt.scatter(proj0_2d[:,0],proj0_2d[:,1],color='blue',label='Proj Class 0',marker='+')\n",
    "\n",
    "plt.scatter(mean_class_1[0],mean_class_1[1],color='maroon',label='Class 1 Mean')\n",
    "plt.scatter(mean_class_0[0],mean_class_0[1],color='orange',label='Class 0 Mean')\n",
    "\n",
    "origin = np.mean(X, axis=0)\n",
    "line_points = np.vstack([origin - 5 * w_unit.ravel(), origin + 5 * w_unit.ravel()])\n",
    "plt.plot(line_points[:, 0], line_points[:, 1], color='brown', label='LDA Axis')\n",
    "\n",
    "plt.xlabel('X1',fontsize=15)\n",
    "plt.ylabel('X2',fontsize=15)\n",
    "plt.title('Projection of points onto the LDA axis',fontsize=15)\n",
    "plt.legend()"
   ]
  }
 ],
 "metadata": {
  "kernelspec": {
   "display_name": "myenv",
   "language": "python",
   "name": "python3"
  },
  "language_info": {
   "codemirror_mode": {
    "name": "ipython",
    "version": 3
   },
   "file_extension": ".py",
   "mimetype": "text/x-python",
   "name": "python",
   "nbconvert_exporter": "python",
   "pygments_lexer": "ipython3",
   "version": "3.10.12"
  }
 },
 "nbformat": 4,
 "nbformat_minor": 5
}
