{
 "cells": [
  {
   "cell_type": "markdown",
   "id": "118776fc",
   "metadata": {},
   "source": [
    "# This notebook explores implementation of Multivariate Linear Regression from scratch"
   ]
  },
  {
   "cell_type": "code",
   "execution_count": 18,
   "id": "09afc238",
   "metadata": {},
   "outputs": [],
   "source": [
    "# import required libraries\n",
    "import numpy as np"
   ]
  },
  {
   "cell_type": "markdown",
   "id": "041c91d1",
   "metadata": {},
   "source": [
    "I will be using the <b>California Housing Dataset</b> from Kaggle. Since this notebook focuses only on implementation of multivariate linear regression, no scaling of data has been done. Also, I have modified the dataset a lil bit to include only the numeric data.<br>\n",
    "The main aim is to show implementation of Linear Regression from the equation obtained by mathematical intuition."
   ]
  },
  {
   "cell_type": "code",
   "execution_count": 35,
   "id": "22868a81",
   "metadata": {},
   "outputs": [],
   "source": [
    "# load dataset\n",
    "housing = np.genfromtxt('datasets/housing.csv',delimiter=',')"
   ]
  },
  {
   "cell_type": "code",
   "execution_count": 36,
   "id": "f1305a10",
   "metadata": {},
   "outputs": [
    {
     "data": {
      "text/plain": [
       "array([[        nan,         nan,         nan, ...,         nan,\n",
       "                nan,         nan],\n",
       "       [ 0.0000e+00, -1.2223e+02,  3.7880e+01, ...,  1.2600e+02,\n",
       "         8.3252e+00,  4.5260e+05],\n",
       "       [ 1.0000e+00, -1.2222e+02,  3.7860e+01, ...,  1.1380e+03,\n",
       "         8.3014e+00,  3.5850e+05],\n",
       "       ...,\n",
       "       [ 2.0637e+04, -1.2122e+02,  3.9430e+01, ...,  4.3300e+02,\n",
       "         1.7000e+00,  9.2300e+04],\n",
       "       [ 2.0638e+04, -1.2132e+02,  3.9430e+01, ...,  3.4900e+02,\n",
       "         1.8672e+00,  8.4700e+04],\n",
       "       [ 2.0639e+04, -1.2124e+02,  3.9370e+01, ...,  5.3000e+02,\n",
       "         2.3886e+00,  8.9400e+04]], shape=(20434, 10))"
      ]
     },
     "execution_count": 36,
     "metadata": {},
     "output_type": "execute_result"
    }
   ],
   "source": [
    "# view the data\n",
    "housing"
   ]
  },
  {
   "cell_type": "code",
   "execution_count": 37,
   "id": "86381a8b",
   "metadata": {},
   "outputs": [],
   "source": [
    "# remove the first row since it corresponds to the col headers\n",
    "housing = housing[1:,:]"
   ]
  },
  {
   "cell_type": "code",
   "execution_count": 41,
   "id": "cce11654",
   "metadata": {},
   "outputs": [],
   "source": [
    "# drop first column since it corresponds to row number/count\n",
    "housing = housing[:,1:]"
   ]
  },
  {
   "cell_type": "code",
   "execution_count": 43,
   "id": "3e8ace5d",
   "metadata": {},
   "outputs": [
    {
     "data": {
      "text/plain": [
       "(array([], dtype=int64), array([], dtype=int64))"
      ]
     },
     "execution_count": 43,
     "metadata": {},
     "output_type": "execute_result"
    }
   ],
   "source": [
    "# now the data has only numeric values, no null values\n",
    "# it can be verified by\n",
    "np.where(np.isnan(housing))"
   ]
  },
  {
   "cell_type": "markdown",
   "id": "2ce61745",
   "metadata": {},
   "source": [
    "Empty arrays indicate there are no null values in the dataset. So good to proceed with our regression model."
   ]
  },
  {
   "cell_type": "code",
   "execution_count": 45,
   "id": "5179909f",
   "metadata": {},
   "outputs": [
    {
     "data": {
      "text/plain": [
       "array([452600., 358500., 352100., ...,  92300.,  84700.,  89400.],\n",
       "      shape=(20433,))"
      ]
     },
     "execution_count": 45,
     "metadata": {},
     "output_type": "execute_result"
    }
   ],
   "source": [
    "# Extract the output column/matrix. Here the last column is the output\n",
    "Y = housing[:,-1]\n",
    "Y"
   ]
  },
  {
   "cell_type": "code",
   "execution_count": 48,
   "id": "f1cc8f7d",
   "metadata": {},
   "outputs": [
    {
     "data": {
      "text/plain": [
       "array([[-1.2223e+02,  3.7880e+01,  4.1000e+01, ...,  3.2200e+02,\n",
       "         1.2600e+02,  8.3252e+00],\n",
       "       [-1.2222e+02,  3.7860e+01,  2.1000e+01, ...,  2.4010e+03,\n",
       "         1.1380e+03,  8.3014e+00],\n",
       "       [-1.2224e+02,  3.7850e+01,  5.2000e+01, ...,  4.9600e+02,\n",
       "         1.7700e+02,  7.2574e+00],\n",
       "       ...,\n",
       "       [-1.2122e+02,  3.9430e+01,  1.7000e+01, ...,  1.0070e+03,\n",
       "         4.3300e+02,  1.7000e+00],\n",
       "       [-1.2132e+02,  3.9430e+01,  1.8000e+01, ...,  7.4100e+02,\n",
       "         3.4900e+02,  1.8672e+00],\n",
       "       [-1.2124e+02,  3.9370e+01,  1.6000e+01, ...,  1.3870e+03,\n",
       "         5.3000e+02,  2.3886e+00]], shape=(20433, 8))"
      ]
     },
     "execution_count": 48,
     "metadata": {},
     "output_type": "execute_result"
    }
   ],
   "source": [
    "# Extract input matrix\n",
    "X = housing[:,:-1]\n",
    "X"
   ]
  },
  {
   "cell_type": "code",
   "execution_count": null,
   "id": "211df4f0",
   "metadata": {},
   "outputs": [],
   "source": [
    "# Append a column of 1s to incorporate bias term\n",
    "X = np.append(np.ones((housing.shape[0],1)),X,axis=1)"
   ]
  },
  {
   "cell_type": "code",
   "execution_count": 61,
   "id": "06febfa1",
   "metadata": {},
   "outputs": [
    {
     "name": "stdout",
     "output_type": "stream",
     "text": [
      "[   1.     -122.23     37.88     41.      880.      129.      322.\n",
      "  126.        8.3252]\n"
     ]
    }
   ],
   "source": [
    "print(X[0,:]) # this is the first datapoint"
   ]
  },
  {
   "cell_type": "code",
   "execution_count": 63,
   "id": "805a1998",
   "metadata": {},
   "outputs": [
    {
     "name": "stdout",
     "output_type": "stream",
     "text": [
      "[ 1.0000e+00 -1.2227e+02  3.7840e+01  5.2000e+01  1.6880e+03  3.3700e+02\n",
      "  8.5300e+02  3.2500e+02  2.1806e+00]\n",
      "[ 1.0000e+00 -1.2199e+02  3.7260e+01  2.9000e+01  2.7180e+03  3.6500e+02\n",
      "  9.8200e+02  3.3900e+02  7.9234e+00]\n"
     ]
    }
   ],
   "source": [
    "# few other datapoints\n",
    "print(X[23,:])\n",
    "print(X[17890,:])"
   ]
  },
  {
   "cell_type": "markdown",
   "id": "738d89da",
   "metadata": {},
   "source": [
    "Now we have the input and output matrices ready. To compute the weights matrix, we use the same formula as in univariate regression, the one obtained by mathematical working.<br>\n",
    "$\\mathbf{W} = (\\mathbf{X}^T \\mathbf{X})^{-1} \\mathbf{X}^T \\mathbf{Y}$"
   ]
  },
  {
   "cell_type": "code",
   "execution_count": 66,
   "id": "cb08caf4",
   "metadata": {},
   "outputs": [],
   "source": [
    "# calcumating the optimal weights \n",
    "W = np.linalg.inv(X.T @ X) @ (X.T @ Y)"
   ]
  },
  {
   "cell_type": "code",
   "execution_count": 72,
   "id": "b842e563",
   "metadata": {},
   "outputs": [
    {
     "data": {
      "text/plain": [
       "array([-3.58539575e+06, -4.27301205e+04, -4.25097369e+04,  1.15790031e+03,\n",
       "       -8.24972507e+00,  1.13820707e+02, -3.83855780e+01,  4.77013513e+01,\n",
       "        4.02975217e+04])"
      ]
     },
     "execution_count": 72,
     "metadata": {},
     "output_type": "execute_result"
    }
   ],
   "source": [
    "# the weight matrix would be\n",
    "W"
   ]
  },
  {
   "cell_type": "markdown",
   "id": "e7afea15",
   "metadata": {},
   "source": [
    "Value at zeroth index corresponds to the bias term."
   ]
  },
  {
   "cell_type": "code",
   "execution_count": 91,
   "id": "8c7a2c4c",
   "metadata": {},
   "outputs": [
    {
     "data": {
      "text/plain": [
       "np.float64(164297.83547532654)"
      ]
     },
     "execution_count": 91,
     "metadata": {},
     "output_type": "execute_result"
    }
   ],
   "source": [
    "# predict for new datapoints \n",
    "datapoint1 = np.array([1,-122.26,37.84,43.0,528.0,107.0,300.0,143.0,2.014])\n",
    "output_dp1 = datapoint1 @ W\n",
    "output_dp1"
   ]
  },
  {
   "cell_type": "code",
   "execution_count": 92,
   "id": "b09d0b3d",
   "metadata": {},
   "outputs": [
    {
     "data": {
      "text/plain": [
       "np.float64(169944.24251536635)"
      ]
     },
     "execution_count": 92,
     "metadata": {},
     "output_type": "execute_result"
    }
   ],
   "source": [
    "datapoint2 = np.array([1,-122.27,36.84,51.0,560.0,111.0,300.0,143.0,0.854])\n",
    "output_dp2 = datapoint2 @ W\n",
    "output_dp2"
   ]
  },
  {
   "cell_type": "markdown",
   "id": "1a7faf9c",
   "metadata": {},
   "source": [
    "So this completes implementation of multivariate regression from scratch. We haven't checked for performance of the regression model since our main aim was to implement it.<br>\n",
    "Evaluating performances and tuning parameters of the model to improve the prediction results will be dealt later."
   ]
  }
 ],
 "metadata": {
  "kernelspec": {
   "display_name": "myenv",
   "language": "python",
   "name": "python3"
  },
  "language_info": {
   "codemirror_mode": {
    "name": "ipython",
    "version": 3
   },
   "file_extension": ".py",
   "mimetype": "text/x-python",
   "name": "python",
   "nbconvert_exporter": "python",
   "pygments_lexer": "ipython3",
   "version": "3.10.12"
  }
 },
 "nbformat": 4,
 "nbformat_minor": 5
}
