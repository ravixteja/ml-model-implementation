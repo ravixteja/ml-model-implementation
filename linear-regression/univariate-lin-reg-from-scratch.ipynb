{
 "cells": [
  {
   "cell_type": "markdown",
   "id": "1d265f61",
   "metadata": {},
   "source": [
    "# This notebook explores implementation of Univariate Linear Regression from Scratch (No Scikit Learn used)"
   ]
  },
  {
   "cell_type": "code",
   "execution_count": 17,
   "id": "f611e63b",
   "metadata": {},
   "outputs": [],
   "source": [
    "# import required libraries\n",
    "import numpy as np\n",
    "import matplotlib.pyplot as plt"
   ]
  },
  {
   "cell_type": "code",
   "execution_count": 2,
   "id": "9a6e5e9c",
   "metadata": {},
   "outputs": [],
   "source": [
    "# load the dataset\n",
    "dataset = np.genfromtxt('datasets/salary-dataset.csv',delimiter=',') "
   ]
  },
  {
   "cell_type": "code",
   "execution_count": 3,
   "id": "93a8f69c",
   "metadata": {},
   "outputs": [
    {
     "data": {
      "text/plain": [
       "array([[        nan,         nan,         nan],\n",
       "       [0.00000e+00, 1.20000e+00, 3.93440e+04],\n",
       "       [1.00000e+00, 1.40000e+00, 4.62060e+04],\n",
       "       [2.00000e+00, 1.60000e+00, 3.77320e+04],\n",
       "       [3.00000e+00, 2.10000e+00, 4.35260e+04],\n",
       "       [4.00000e+00, 2.30000e+00, 3.98920e+04],\n",
       "       [5.00000e+00, 3.00000e+00, 5.66430e+04],\n",
       "       [6.00000e+00, 3.10000e+00, 6.01510e+04],\n",
       "       [7.00000e+00, 3.30000e+00, 5.44460e+04],\n",
       "       [8.00000e+00, 3.30000e+00, 6.44460e+04],\n",
       "       [9.00000e+00, 3.80000e+00, 5.71900e+04],\n",
       "       [1.00000e+01, 4.00000e+00, 6.32190e+04],\n",
       "       [1.10000e+01, 4.10000e+00, 5.57950e+04],\n",
       "       [1.20000e+01, 4.10000e+00, 5.69580e+04],\n",
       "       [1.30000e+01, 4.20000e+00, 5.70820e+04],\n",
       "       [1.40000e+01, 4.60000e+00, 6.11120e+04],\n",
       "       [1.50000e+01, 5.00000e+00, 6.79390e+04],\n",
       "       [1.60000e+01, 5.20000e+00, 6.60300e+04],\n",
       "       [1.70000e+01, 5.40000e+00, 8.30890e+04],\n",
       "       [1.80000e+01, 6.00000e+00, 8.13640e+04],\n",
       "       [1.90000e+01, 6.10000e+00, 9.39410e+04],\n",
       "       [2.00000e+01, 6.90000e+00, 9.17390e+04],\n",
       "       [2.10000e+01, 7.20000e+00, 9.82740e+04],\n",
       "       [2.20000e+01, 8.00000e+00, 1.01303e+05],\n",
       "       [2.30000e+01, 8.30000e+00, 1.13813e+05],\n",
       "       [2.40000e+01, 8.80000e+00, 1.09432e+05],\n",
       "       [2.50000e+01, 9.10000e+00, 1.05583e+05],\n",
       "       [2.60000e+01, 9.60000e+00, 1.16970e+05],\n",
       "       [2.70000e+01, 9.70000e+00, 1.12636e+05],\n",
       "       [2.80000e+01, 1.04000e+01, 1.22392e+05],\n",
       "       [2.90000e+01, 1.06000e+01, 1.21873e+05]])"
      ]
     },
     "execution_count": 3,
     "metadata": {},
     "output_type": "execute_result"
    }
   ],
   "source": [
    "# view the dataset\n",
    "dataset"
   ]
  },
  {
   "cell_type": "code",
   "execution_count": 4,
   "id": "4a2b40f0",
   "metadata": {},
   "outputs": [
    {
     "data": {
      "text/plain": [
       "array([[0.00000e+00, 1.20000e+00, 3.93440e+04],\n",
       "       [1.00000e+00, 1.40000e+00, 4.62060e+04],\n",
       "       [2.00000e+00, 1.60000e+00, 3.77320e+04],\n",
       "       [3.00000e+00, 2.10000e+00, 4.35260e+04],\n",
       "       [4.00000e+00, 2.30000e+00, 3.98920e+04],\n",
       "       [5.00000e+00, 3.00000e+00, 5.66430e+04],\n",
       "       [6.00000e+00, 3.10000e+00, 6.01510e+04],\n",
       "       [7.00000e+00, 3.30000e+00, 5.44460e+04],\n",
       "       [8.00000e+00, 3.30000e+00, 6.44460e+04],\n",
       "       [9.00000e+00, 3.80000e+00, 5.71900e+04],\n",
       "       [1.00000e+01, 4.00000e+00, 6.32190e+04],\n",
       "       [1.10000e+01, 4.10000e+00, 5.57950e+04],\n",
       "       [1.20000e+01, 4.10000e+00, 5.69580e+04],\n",
       "       [1.30000e+01, 4.20000e+00, 5.70820e+04],\n",
       "       [1.40000e+01, 4.60000e+00, 6.11120e+04],\n",
       "       [1.50000e+01, 5.00000e+00, 6.79390e+04],\n",
       "       [1.60000e+01, 5.20000e+00, 6.60300e+04],\n",
       "       [1.70000e+01, 5.40000e+00, 8.30890e+04],\n",
       "       [1.80000e+01, 6.00000e+00, 8.13640e+04],\n",
       "       [1.90000e+01, 6.10000e+00, 9.39410e+04],\n",
       "       [2.00000e+01, 6.90000e+00, 9.17390e+04],\n",
       "       [2.10000e+01, 7.20000e+00, 9.82740e+04],\n",
       "       [2.20000e+01, 8.00000e+00, 1.01303e+05],\n",
       "       [2.30000e+01, 8.30000e+00, 1.13813e+05],\n",
       "       [2.40000e+01, 8.80000e+00, 1.09432e+05],\n",
       "       [2.50000e+01, 9.10000e+00, 1.05583e+05],\n",
       "       [2.60000e+01, 9.60000e+00, 1.16970e+05],\n",
       "       [2.70000e+01, 9.70000e+00, 1.12636e+05],\n",
       "       [2.80000e+01, 1.04000e+01, 1.22392e+05],\n",
       "       [2.90000e+01, 1.06000e+01, 1.21873e+05]])"
      ]
     },
     "execution_count": 4,
     "metadata": {},
     "output_type": "execute_result"
    }
   ],
   "source": [
    "# we see that the 1st row is of nan values - this is be due to presence of column headers there\n",
    "# it is important to drop the first row\n",
    "dataset = dataset[1:,:]\n",
    "dataset"
   ]
  },
  {
   "cell_type": "markdown",
   "id": "124d037e",
   "metadata": {},
   "source": [
    "The dataset used here gives the salaries of various employees of different work experience in years.\n",
    "<br>1st col is index, 2nd one - years of experience, 3rd one - corresponding salary.\n",
    "<br>So the 2nd column is our input variable and 3rd col is our target variable."
   ]
  },
  {
   "cell_type": "code",
   "execution_count": 5,
   "id": "8a42bb0b",
   "metadata": {},
   "outputs": [
    {
     "data": {
      "text/plain": [
       "array([[1.20000e+00, 3.93440e+04],\n",
       "       [1.40000e+00, 4.62060e+04],\n",
       "       [1.60000e+00, 3.77320e+04],\n",
       "       [2.10000e+00, 4.35260e+04],\n",
       "       [2.30000e+00, 3.98920e+04],\n",
       "       [3.00000e+00, 5.66430e+04],\n",
       "       [3.10000e+00, 6.01510e+04],\n",
       "       [3.30000e+00, 5.44460e+04],\n",
       "       [3.30000e+00, 6.44460e+04],\n",
       "       [3.80000e+00, 5.71900e+04],\n",
       "       [4.00000e+00, 6.32190e+04],\n",
       "       [4.10000e+00, 5.57950e+04],\n",
       "       [4.10000e+00, 5.69580e+04],\n",
       "       [4.20000e+00, 5.70820e+04],\n",
       "       [4.60000e+00, 6.11120e+04],\n",
       "       [5.00000e+00, 6.79390e+04],\n",
       "       [5.20000e+00, 6.60300e+04],\n",
       "       [5.40000e+00, 8.30890e+04],\n",
       "       [6.00000e+00, 8.13640e+04],\n",
       "       [6.10000e+00, 9.39410e+04],\n",
       "       [6.90000e+00, 9.17390e+04],\n",
       "       [7.20000e+00, 9.82740e+04],\n",
       "       [8.00000e+00, 1.01303e+05],\n",
       "       [8.30000e+00, 1.13813e+05],\n",
       "       [8.80000e+00, 1.09432e+05],\n",
       "       [9.10000e+00, 1.05583e+05],\n",
       "       [9.60000e+00, 1.16970e+05],\n",
       "       [9.70000e+00, 1.12636e+05],\n",
       "       [1.04000e+01, 1.22392e+05],\n",
       "       [1.06000e+01, 1.21873e+05]])"
      ]
     },
     "execution_count": 5,
     "metadata": {},
     "output_type": "execute_result"
    }
   ],
   "source": [
    "# drop index\n",
    "dataset = dataset[:,1:]\n",
    "dataset"
   ]
  },
  {
   "cell_type": "code",
   "execution_count": 6,
   "id": "00217806",
   "metadata": {},
   "outputs": [],
   "source": [
    "# extract tagret variable\n",
    "Y = dataset[:,1]"
   ]
  },
  {
   "cell_type": "code",
   "execution_count": 7,
   "id": "a281072a",
   "metadata": {},
   "outputs": [
    {
     "data": {
      "text/plain": [
       "array([ 39344.,  46206.,  37732.,  43526.,  39892.,  56643.,  60151.,\n",
       "        54446.,  64446.,  57190.,  63219.,  55795.,  56958.,  57082.,\n",
       "        61112.,  67939.,  66030.,  83089.,  81364.,  93941.,  91739.,\n",
       "        98274., 101303., 113813., 109432., 105583., 116970., 112636.,\n",
       "       122392., 121873.])"
      ]
     },
     "execution_count": 7,
     "metadata": {},
     "output_type": "execute_result"
    }
   ],
   "source": [
    "Y"
   ]
  },
  {
   "cell_type": "code",
   "execution_count": 8,
   "id": "f871715a",
   "metadata": {},
   "outputs": [
    {
     "data": {
      "text/plain": [
       "array([[ 1. ,  1.2],\n",
       "       [ 1. ,  1.4],\n",
       "       [ 1. ,  1.6],\n",
       "       [ 1. ,  2.1],\n",
       "       [ 1. ,  2.3],\n",
       "       [ 1. ,  3. ],\n",
       "       [ 1. ,  3.1],\n",
       "       [ 1. ,  3.3],\n",
       "       [ 1. ,  3.3],\n",
       "       [ 1. ,  3.8],\n",
       "       [ 1. ,  4. ],\n",
       "       [ 1. ,  4.1],\n",
       "       [ 1. ,  4.1],\n",
       "       [ 1. ,  4.2],\n",
       "       [ 1. ,  4.6],\n",
       "       [ 1. ,  5. ],\n",
       "       [ 1. ,  5.2],\n",
       "       [ 1. ,  5.4],\n",
       "       [ 1. ,  6. ],\n",
       "       [ 1. ,  6.1],\n",
       "       [ 1. ,  6.9],\n",
       "       [ 1. ,  7.2],\n",
       "       [ 1. ,  8. ],\n",
       "       [ 1. ,  8.3],\n",
       "       [ 1. ,  8.8],\n",
       "       [ 1. ,  9.1],\n",
       "       [ 1. ,  9.6],\n",
       "       [ 1. ,  9.7],\n",
       "       [ 1. , 10.4],\n",
       "       [ 1. , 10.6]])"
      ]
     },
     "execution_count": 8,
     "metadata": {},
     "output_type": "execute_result"
    }
   ],
   "source": [
    "# form the input matrix\n",
    "# we need to append a column of 1s to incorporate the bias terms - the resulting matrix will be our input matrix\n",
    "X = np.append(np.ones((dataset.shape[0],1)),dataset[:,[0]],axis=1)\n",
    "X"
   ]
  },
  {
   "cell_type": "markdown",
   "id": "2ec0880d",
   "metadata": {},
   "source": [
    "We now have the input and output matrix, labelled as X and Y.<br>\n",
    "We know by mathematics of Linear Regression, the weight matrix is given by:<br>\n",
    "<br>\n",
    "$\\mathbf{W} = (\\mathbf{X}^T \\mathbf{X})^{-1} \\mathbf{X}^T \\mathbf{Y}$\n"
   ]
  },
  {
   "cell_type": "code",
   "execution_count": 9,
   "id": "fb6f3567",
   "metadata": {},
   "outputs": [
    {
     "data": {
      "text/plain": [
       "array([24848.20396652,  9449.96232146])"
      ]
     },
     "execution_count": 9,
     "metadata": {},
     "output_type": "execute_result"
    }
   ],
   "source": [
    "# Implement the above equation to obtain optimal weights\n",
    "W = (np.linalg.inv(X.T @ X)) @ (X.T @ Y)\n",
    "W"
   ]
  },
  {
   "cell_type": "code",
   "execution_count": 10,
   "id": "ac373e10",
   "metadata": {},
   "outputs": [
    {
     "name": "stdout",
     "output_type": "stream",
     "text": [
      "Bias term (W0): 24848.203966523182\n",
      "Weight for the feature (W1): 9449.962321455083\n"
     ]
    }
   ],
   "source": [
    "print(\"Bias term (W0):\", W[0])\n",
    "print(\"Weight for the feature (W1):\", W[1])"
   ]
  },
  {
   "cell_type": "markdown",
   "id": "99b97a23",
   "metadata": {},
   "source": [
    "A basic Linear Regression model is now ready.<br>\n",
    "Multiplying the matrices W and a new_input results in a prediction of salary."
   ]
  },
  {
   "cell_type": "code",
   "execution_count": 11,
   "id": "6be8abe3",
   "metadata": {},
   "outputs": [],
   "source": [
    "# prediction for a new input\n",
    "new_input = np.array([[1, 9.6]])  # Example: 9.6 years of experience\n",
    "predicted_salary = new_input @ W"
   ]
  },
  {
   "cell_type": "code",
   "execution_count": 12,
   "id": "30f8ec39",
   "metadata": {},
   "outputs": [
    {
     "name": "stdout",
     "output_type": "stream",
     "text": [
      "Predicted Salary for 9.6 years of experience: 115567.84225249197\n"
     ]
    }
   ],
   "source": [
    "print(\"Predicted Salary for 9.6 years of experience:\", predicted_salary[0])"
   ]
  },
  {
   "cell_type": "code",
   "execution_count": 13,
   "id": "6679e831",
   "metadata": {},
   "outputs": [
    {
     "data": {
      "text/plain": [
       "np.float64(185497.5634312596)"
      ]
     },
     "execution_count": 13,
     "metadata": {},
     "output_type": "execute_result"
    }
   ],
   "source": [
    "# prediction for other inputs\n",
    "[1,17] @ W # prediction for 17 years of experience"
   ]
  },
  {
   "cell_type": "code",
   "execution_count": 14,
   "id": "bbd098d2",
   "metadata": {},
   "outputs": [
    {
     "data": {
      "text/plain": [
       "np.float64(34298.16628797827)"
      ]
     },
     "execution_count": 14,
     "metadata": {},
     "output_type": "execute_result"
    }
   ],
   "source": [
    "[1,1]@W # prediction for 1 year of experience"
   ]
  },
  {
   "cell_type": "code",
   "execution_count": 18,
   "id": "55fe7778",
   "metadata": {},
   "outputs": [
    {
     "data": {
      "text/plain": [
       "np.float64(24848.203966523182)"
      ]
     },
     "execution_count": 18,
     "metadata": {},
     "output_type": "execute_result"
    }
   ],
   "source": [
    "[1,0] @ W # prediction for 0 years of experience - this would be equivalent to the bias term"
   ]
  },
  {
   "cell_type": "markdown",
   "id": "dc64d311",
   "metadata": {},
   "source": [
    "Since we have built a regression line, it would be nice to plot the line using matplotlib."
   ]
  },
  {
   "cell_type": "code",
   "execution_count": 39,
   "id": "2f0ef4b7",
   "metadata": {},
   "outputs": [],
   "source": [
    "# form the linear equation using weight matrix\n",
    "bias = W[0]\n",
    "slope = W[1]\n",
    "Y_pred = bias*X[:,0] + slope*X[:,1]"
   ]
  },
  {
   "cell_type": "code",
   "execution_count": 41,
   "id": "df77e779",
   "metadata": {},
   "outputs": [
    {
     "data": {
      "text/plain": [
       "array([ 36188.15875227,  38078.15121656,  39968.14368085,  44693.12484158,\n",
       "        46583.11730587,  53198.09093089,  54143.08716303,  56033.07962732,\n",
       "        56033.07962732,  60758.06078805,  62648.05325234,  63593.04948449,\n",
       "        63593.04948449,  64538.04571663,  68318.03064522,  72098.0155738 ,\n",
       "        73988.00803809,  75878.00050238,  81547.97789525,  82492.9741274 ,\n",
       "        90052.94398456,  92887.932681  , 100447.90253816, 103282.8912346 ,\n",
       "       108007.87239533, 110842.86109176, 115567.84225249, 116512.83848464,\n",
       "       123127.81210966, 125017.80457395])"
      ]
     },
     "execution_count": 41,
     "metadata": {},
     "output_type": "execute_result"
    }
   ],
   "source": [
    "Y_pred"
   ]
  },
  {
   "cell_type": "code",
   "execution_count": 48,
   "id": "56774206",
   "metadata": {},
   "outputs": [
    {
     "data": {
      "text/plain": [
       "Text(0.5, 1.0, 'Univariate Regression Fit')"
      ]
     },
     "execution_count": 48,
     "metadata": {},
     "output_type": "execute_result"
    },
    {
     "data": {
      "image/png": "[encoded data removed]",
      "text/plain": [
       "<Figure size 640x480 with 1 Axes>"
      ]
     },
     "metadata": {},
     "output_type": "display_data"
    }
   ],
   "source": [
    "# plot a scatter plot of original data\n",
    "plt.scatter(X[:,1],Y,label='Datapoints')\n",
    "\n",
    "# plot the regression line\n",
    "plt.plot(X[:,1],Y_pred,color='red',label='Regression Line')\n",
    "plt.legend()\n",
    "plt.xlabel('Years of Experience (in years)')\n",
    "plt.ylabel('Salary (in Rupees)')\n",
    "plt.title('Univariate Regression Fit')"
   ]
  }
 ],
 "metadata": {
  "kernelspec": {
   "display_name": "myenv",
   "language": "python",
   "name": "python3"
  },
  "language_info": {
   "codemirror_mode": {
    "name": "ipython",
    "version": 3
   },
   "file_extension": ".py",
   "mimetype": "text/x-python",
   "name": "python",
   "nbconvert_exporter": "python",
   "pygments_lexer": "ipython3",
   "version": "3.10.12"
  }
 },
 "nbformat": 4,
 "nbformat_minor": 5
}
